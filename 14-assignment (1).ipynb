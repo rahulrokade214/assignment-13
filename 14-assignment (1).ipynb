{
 "cells": [
  {
   "cell_type": "markdown",
   "id": "53e918f3-abda-4198-80c4-76507cc54278",
   "metadata": {},
   "source": [
    "## Q1. What is an API? Give an example, where an API is used in real life.\n"
   ]
  },
  {
   "cell_type": "markdown",
   "id": "b1f904be-e651-460b-a371-24a0b4f8f226",
   "metadata": {},
   "source": [
    "#### =>In everyday life, APIs power various experiences, from social media interactions to real-time weather data access. Public API examples include social media bots, third-party login, e-commerce transactions, and weather apps."
   ]
  },
  {
   "cell_type": "markdown",
   "id": "65d53965-04e5-4ef3-b0c0-2fe42446503d",
   "metadata": {},
   "source": [
    "## Q2. Give advantages and disadvantages of using API.\n"
   ]
  },
  {
   "cell_type": "markdown",
   "id": "a8aa2a7f-bebc-486f-9d9d-b13fbcf1a67f",
   "metadata": {},
   "source": [
    "### =>Advantages of WEB APIs\n",
    "#### The following are significant advantages of using API services:\n",
    "\n",
    "#### The WEB API is the optimal choice for developing resource-oriented services that use HTTP/Restful and integrate nicely with MVC-based applications. For more specific, lighter-weight services, a WEB API is a preferable solution. The WEB API is compatible with any text format, including XML, and is far quicker than the Windows Communication Foundation (WCF). WCF was developed to facilitate the development of SOAP-based services and interfaces. Because WCF is SOAP-based, which means it communicates using a standard XML structure through HTTP, it may result in more unsatisfactory performance.\n",
    "### Disadvantages of API\n",
    "#### The following are significant disadvantages of using API services:\n",
    "\n",
    "#### Expense: Providing an API is costly in terms of development time, ongoing maintenance, documentation for the API on your website, and support for API users."
   ]
  },
  {
   "cell_type": "markdown",
   "id": "c8fa47d5-9ef2-449b-b90e-1f49abbf75da",
   "metadata": {},
   "source": [
    "## Q3. What is a Web API? Differentiate between API and Web API.\n"
   ]
  },
  {
   "cell_type": "markdown",
   "id": "a5d1019a-da15-4fa3-b721-c2591546a03a",
   "metadata": {},
   "source": [
    "#### =>API stands for Application Programming Interface. A Web API is an application programming interface for the Web. A Browser API can extend the functionality of a web browser. A Server API can extend the functionality of a web server."
   ]
  },
  {
   "cell_type": "markdown",
   "id": "e46ec14e-3b4e-4e7e-a703-e24d3212311b",
   "metadata": {},
   "source": [
    "## Q4. Explain REST and SOAP Architecture. Mention shortcomings of SOAP.\n"
   ]
  },
  {
   "cell_type": "markdown",
   "id": "9164b357-4dc5-4092-8b8a-324ae2d101a7",
   "metadata": {},
   "source": [
    "#### =>SOAP supports only XML data exchange. REST supports XML, JSON, plain text, HTML. SOAP messages are larger, which makes communication slower. REST has faster performance due to smaller messages and caching support."
   ]
  },
  {
   "cell_type": "markdown",
   "id": "5bdf4278-a575-4af8-8792-cca3523855a1",
   "metadata": {},
   "source": [
    "## Q5. Differentiate between REST and SOAP."
   ]
  },
  {
   "cell_type": "markdown",
   "id": "b87dc3f1-806a-44c6-b1fd-d607657f1f06",
   "metadata": {},
   "source": [
    "#### =>SOAP and REST are two different approaches to API design. The SOAP approach is highly structured and uses XML data format. REST is more flexible and allows applications to exchange data in multiple formats."
   ]
  }
 ],
 "metadata": {
  "kernelspec": {
   "display_name": "Python 3 (ipykernel)",
   "language": "python",
   "name": "python3"
  },
  "language_info": {
   "codemirror_mode": {
    "name": "ipython",
    "version": 3
   },
   "file_extension": ".py",
   "mimetype": "text/x-python",
   "name": "python",
   "nbconvert_exporter": "python",
   "pygments_lexer": "ipython3",
   "version": "3.10.8"
  }
 },
 "nbformat": 4,
 "nbformat_minor": 5
}
